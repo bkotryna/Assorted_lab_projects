{
 "cells": [
  {
   "cell_type": "markdown",
   "metadata": {},
   "source": [
    "# Intro\n",
    "\n",
    "Input = an email from Stores, confirming that an order has been placed\n",
    "\n",
    "Desired output = Excel spreadsheet with a line for each item from the order, with columns arranged exactly as in Michal's spreadsheet, so you can just copy-paste the whole line in there. (With some exceptions - eg what type of item it is - this will have to be done manually)"
   ]
  },
  {
   "cell_type": "markdown",
   "metadata": {},
   "source": [
    "# Outline of steps\n",
    "\n",
    "## 1. Read in Stores email\n",
    "\n",
    "Ideally could just paste it dierectly into the script\n",
    "\n",
    "## 2. Parse through the email & extract relevant bits\n",
    "\n",
    "\n",
    "## 3. Create a dataframe line for each item\n",
    "\n",
    "\n",
    "## 4. Save the dataframe as an Excel spreadsheet"
   ]
  },
  {
   "cell_type": "code",
   "execution_count": 1,
   "metadata": {},
   "outputs": [],
   "source": [
    "import pandas as pd\n",
    "import re"
   ]
  },
  {
   "cell_type": "code",
   "execution_count": 2,
   "metadata": {},
   "outputs": [
    {
     "name": "stdout",
     "output_type": "stream",
     "text": [
      "Please paste Stores email here:\n",
      "\n",
      "Submitted on Thursday, 12 December, 2019 - 09:30 Submitted by user: Miss Kotryna Bloznelyte Submitted values are:  Name: Miss Kotryna Bloznelyte Telephone number: 766029 Email address: luisilab@hermes.cam.ac.uk Research group: B Luisi How are you paying for your order? Research grant (e.g. PHAB/123) Research grant code: PhZJ/564 Research grant task number: 1 Research grant end date: 2022-08-31 Is your order VAT exempt?  : Yes, internal order Destination: Sanger Building Quotation: No, not applicable Attachment: Supplier: Stores Is an alternative supplier permissible? Yes Currency: GBP Minimum charge: Yes       ------------------------------------------------------------------------------ -------- DETAILS OF GOODS ----------------------------------------------------  Number of items: 2     ==Item 1:==       Quantity: 1       Unit size: 500ml       Description: Tween 20, P1379-500ML       Catalogue number: P1379-500ML       Approximate price each: £ 11.98\n"
     ]
    }
   ],
   "source": [
    "# Get user input - pasted text from Stores email\n",
    "\n",
    "email = input(\"Please paste Stores email here:\\n\\n\")"
   ]
  },
  {
   "cell_type": "code",
   "execution_count": 3,
   "metadata": {},
   "outputs": [
    {
     "name": "stdout",
     "output_type": "stream",
     "text": [
      "       Date Name                       Product            Cat. No. Suppliers  \\\n",
      "0  12/12/19  lab  Tween 20, P1379-500ML         P1379-500ML          Stores    \n",
      "\n",
      "  Amount     Unit size Unit Price Total Price Grant No. Date ordered  \n",
      "0      1  500ml           £ 11.98     £ 11.98  PhZJ/564     12/12/19  \n"
     ]
    }
   ],
   "source": [
    "# Set up an empty dataframe\n",
    "\n",
    "excel_lines = pd.DataFrame(columns=['Date', 'Name','Product', 'Cat. No.', 'Suppliers',\n",
    "                                   'Amount', 'Unit size', 'Unit Price', 'Total Price', 'Grant No.', 'Date ordered'])\n",
    "excel_lines\n",
    "\n",
    "# Default choice for who ordered the item - would need to manually edit this if it's not lab\n",
    "name = 'lab'\n",
    "\n",
    "# Extract date from the email\n",
    "day = email.split('Submitted on')[1].split(',')[1].split()[0]\n",
    "#print(day)\n",
    "if int(day) <10:\n",
    "    day_2 = '0' + day\n",
    "else:\n",
    "    day_2 = day\n",
    "\n",
    "month_name = email.split('Submitted on')[1].split(',')[1].split()[1]\n",
    "#print(month_name)\n",
    "\n",
    "from time import strptime\n",
    "month_no = strptime(month_name,'%B').tm_mon\n",
    "#print(month_no)\n",
    "if int(month_no) <10:\n",
    "    month_2 = '0' + str(month_no)\n",
    "else:\n",
    "    month_2 = str(month_no)\n",
    "\n",
    "year = email.split('Submitted on')[1].split(',')[2].split()[0]\n",
    "#print(year)\n",
    "year_2 = str(list(year)[2]) + str(list(year)[3])\n",
    "#print(year_2)\n",
    "\n",
    "date_full = year + '-' + month_2 + '-' + day_2\n",
    "#print(date_full)\n",
    "\n",
    "date_2 = day + '/' + str(month_no) + '/' + year_2\n",
    "#print(date_2)\n",
    "\n",
    "# Extract other general info from the email\n",
    "\n",
    "grant = email.split('Research grant code: ')[1].split()[0]\n",
    "#print(grant)\n",
    "\n",
    "supplier = email.split('Supplier: ')[1].split('Is an alternative')[0]\n",
    "#print(supplier)\n",
    "\n",
    "number_of_items = email.count(\"==Item\")\n",
    "#print(number_of_items)\n",
    "\n",
    "currency = email.split('Currency: ')[1].split('Minimum charge')[0]\n",
    "#print(currency)\n",
    "\n",
    "\n",
    "# Extract item-specific info from the email\n",
    "# Populate dataframe with the extracted info\n",
    "\n",
    "for i in range(1, number_of_items + 1):\n",
    "    \n",
    "    #print(i)\n",
    "    item = email.split('==Item ')[i]\n",
    "    #print(item_i)\n",
    "    quantity = int(item.split('Quantity: ')[1].split()[0])\n",
    "    #print(quantity)\n",
    "    unit_size = item.split('Unit size: ')[1].split('Description: ')[0]\n",
    "    #print(unit_size)\n",
    "    description = item.split('Description: ')[1].split('Catalogue number:')[0]\n",
    "    #print(description)\n",
    "    cat_no = item.split('Catalogue number: ')[1].split('Approximate price each: ')[0]\n",
    "    #print(cat_no)\n",
    "    \n",
    "    price_region = item.split('Approximate price each: ')[1]\n",
    "    #print(price_region)\n",
    "    non_letters = re.findall('[0-9,.;: ]', price_region)\n",
    "    non_letters_joined = ''.join(non_letters)\n",
    "    price = non_letters_joined.split()[0]\n",
    "    #print(price)\n",
    "    price_number = float(price)\n",
    "    #print(price_number)\n",
    "\n",
    "    \n",
    "    \n",
    "    total_price = price_number * quantity\n",
    "    total_price_dec = '{:.2f}'.format(total_price)\n",
    "    \n",
    "    if currency == \"GBP\" or 'gbp':\n",
    "        currency_price = '£' + ' ' + str(price)\n",
    "        total_price_currency = '£' + ' ' + str(total_price_dec)\n",
    "    else:\n",
    "        currency_price = str(price)\n",
    "        total_price_currency = str(total_price_dec)\n",
    "    \n",
    "    new_line = {'Date': date_2, 'Name': name, 'Product': description, 'Cat. No.': cat_no, 'Suppliers': supplier,\n",
    "            'Amount': quantity, 'Unit size': unit_size, 'Unit Price': currency_price,\n",
    "            'Total Price': total_price_currency, 'Grant No.': grant, 'Date ordered': date_2}\n",
    "    \n",
    "    excel_lines = excel_lines.append(new_line, ignore_index=True)\n",
    "    print(excel_lines)\n",
    "    "
   ]
  },
  {
   "cell_type": "code",
   "execution_count": 4,
   "metadata": {},
   "outputs": [
    {
     "name": "stdout",
     "output_type": "stream",
     "text": [
      "       Date Name                       Product            Cat. No. Suppliers  \\\n",
      "0  12/12/19  lab  Tween 20, P1379-500ML         P1379-500ML          Stores    \n",
      "\n",
      "  Amount     Unit size Unit Price Total Price Grant No. Date ordered  \n",
      "0      1  500ml           £ 11.98     £ 11.98  PhZJ/564     12/12/19  \n"
     ]
    }
   ],
   "source": [
    "# Print the current version of the dataframe\n",
    "print(excel_lines)"
   ]
  },
  {
   "cell_type": "code",
   "execution_count": 5,
   "metadata": {},
   "outputs": [],
   "source": [
    "# append to an existing Excel spreadsheet\n",
    "from openpyxl import load_workbook\n",
    "\n",
    "book = load_workbook('Ongoing_stores_emails.xlsx')\n",
    "writer = pd.ExcelWriter('Ongoing_stores_emails.xlsx', engine='openpyxl')\n",
    "writer.book = book\n",
    "writer.sheets = {ws.title: ws for ws in book.worksheets}\n",
    "\n",
    "for sheetname in writer.sheets:\n",
    "    excel_lines.to_excel(writer,sheet_name=sheetname, startrow=writer.sheets[sheetname].max_row, index = False,header= False)\n",
    "\n",
    "writer.save()"
   ]
  },
  {
   "cell_type": "code",
   "execution_count": null,
   "metadata": {},
   "outputs": [],
   "source": []
  }
 ],
 "metadata": {
  "kernelspec": {
   "display_name": "Python 3",
   "language": "python",
   "name": "python3"
  },
  "language_info": {
   "codemirror_mode": {
    "name": "ipython",
    "version": 3
   },
   "file_extension": ".py",
   "mimetype": "text/x-python",
   "name": "python",
   "nbconvert_exporter": "python",
   "pygments_lexer": "ipython3",
   "version": "3.7.1"
  }
 },
 "nbformat": 4,
 "nbformat_minor": 2
}
